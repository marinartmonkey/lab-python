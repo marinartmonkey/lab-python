{
 "cells": [
  {
   "cell_type": "markdown",
   "metadata": {},
   "source": [
    "### Reduction operation: the sum of the numbers in the range [0, a)"
   ]
  },
  {
   "cell_type": "code",
   "execution_count": 10,
   "metadata": {},
   "outputs": [],
   "source": [
    "import time\n",
    "import numpy as np"
   ]
  },
  {
   "cell_type": "code",
   "execution_count": 11,
   "metadata": {},
   "outputs": [
    {
     "name": "stdout",
     "output_type": "stream",
     "text": [
      "Tiempo tomado por la operación de reducción: 0.3026876449584961 segundos\n",
      "298 ms ± 606 µs per loop (mean ± std. dev. of 2 runs, 1 loop each)\n",
      "\n",
      " \t Calculando la suma de números en el rango [0, value): 499999500000\n",
      "\n"
     ]
    }
   ],
   "source": [
    "def reduc_operation(a):\n",
    "    \"\"\"Calcular la suma de los números en el rango [0, a).\"\"\"\n",
    "    x = 0\n",
    "    for i in range(a):\n",
    "        x += i\n",
    "    return x\n",
    "\n",
    "# Secuencial\n",
    "\n",
    "value = 1000000\n",
    "\n",
    "initialTime = time.time()\n",
    "suma = reduc_operation(value)\n",
    "finalTime = time.time()\n",
    "\n",
    "print(\"Tiempo tomado por la operación de reducción:\", (finalTime - initialTime), \"segundos\")\n",
    "\n",
    "# Utilizando las operaciones mágicas de ipython\n",
    "%timeit -r 2 reduc_operation(value)\n",
    "\n",
    "print(f\"\\n \\t Calculando la suma de números en el rango [0, value): {suma}\\n\")"
   ]
  },
  {
   "cell_type": "code",
   "execution_count": null,
   "metadata": {},
   "outputs": [],
   "source": [
    "a) En la siguiente celda de código del notebook3 vamos a utilizar el tipo de datos de listas para\n",
    "realizar dicha operación de reducción. Para ello, crea una lista de Python con la función range que contenga 10^6\n",
    "elementos. Una vez creada, calcula el tiempo que tardas en sumar todos los elementos\n",
    "de la lista de 2 formas diferentes:\n",
    "    a) Usando un bucle for similar al código ya mostrado en la celda\n",
    "anterior para ir sumando al resultado total elemento a elemento de la lista\n",
    "    b) usando la función sum que tienen las listas. Como verás, hay una diferencia importante.\n"
   ]
  },
  {
   "cell_type": "code",
   "execution_count": 12,
   "metadata": {},
   "outputs": [],
   "source": [
    "lista = list(range(10**6))"
   ]
  },
  {
   "cell_type": "code",
   "execution_count": 13,
   "metadata": {},
   "outputs": [
    {
     "name": "stdout",
     "output_type": "stream",
     "text": [
      "Suma usando for: 499999500000\n"
     ]
    }
   ],
   "source": [
    "#con un for\n",
    "suma_total = 0\n",
    "for num in lista:\n",
    "    suma_total += num\n",
    "print(\"Suma usando for:\", suma_total)"
   ]
  },
  {
   "cell_type": "code",
   "execution_count": 14,
   "metadata": {},
   "outputs": [
    {
     "name": "stdout",
     "output_type": "stream",
     "text": [
      "Suma usando sum: 499999500000\n"
     ]
    }
   ],
   "source": [
    "#con un sum\n",
    "suma_total = sum(lista)\n",
    "print(\"Suma usando sum:\", suma_total)"
   ]
  },
  {
   "cell_type": "code",
   "execution_count": 15,
   "metadata": {},
   "outputs": [
    {
     "name": "stdout",
     "output_type": "stream",
     "text": [
      "Suma usando for loop:\n",
      "Resultado de la suma con for: 499999500000\n",
      "Tiempo tomado usando for loop: 0.496082067489624 segundos\n",
      "\n",
      "Suma usando sum():\n",
      "Resultado de la suma con sum(): 499999500000\n",
      "Tiempo tomado usando sum(): 0.04489445686340332 segundos\n"
     ]
    }
   ],
   "source": [
    "# Crear la lista de 10^6 elementos\n",
    "lista = list(range(10**6))\n",
    "\n",
    "# 1. Suma usando un bucle for\n",
    "print(\"Suma usando for loop:\")\n",
    "suma_for = 0\n",
    "start_time = time.time()  # Tiempo inicial\n",
    "for num in lista:\n",
    "    suma_for += num\n",
    "end_time = time.time()  # Tiempo final\n",
    "print(\"Resultado de la suma con for:\", suma_for)\n",
    "print(\"Tiempo tomado usando for loop:\", (end_time - start_time), \"segundos\")\n",
    "\n",
    "# 2. Suma usando la función sum()\n",
    "print(\"\\nSuma usando sum():\")\n",
    "start_time = time.time()  # Tiempo inicial\n",
    "suma_sum = sum(lista)\n",
    "end_time = time.time()  # Tiempo final\n",
    "print(\"Resultado de la suma con sum():\", suma_sum)\n",
    "print(\"Tiempo tomado usando sum():\", (end_time - start_time), \"segundos\")"
   ]
  },
  {
   "cell_type": "code",
   "execution_count": 16,
   "metadata": {},
   "outputs": [
    {
     "name": "stdout",
     "output_type": "stream",
     "text": [
      "Comparación con %%timeit:\n",
      "29.9 ms ± 70.8 µs per loop (mean ± std. dev. of 7 runs, 10 loops each)\n",
      "356 ms ± 921 µs per loop (mean ± std. dev. of 7 runs, 1 loop each)\n"
     ]
    }
   ],
   "source": [
    "# Usar la función mágica %timeit para medir el rendimiento\n",
    "print(\"Comparación con %%timeit:\")\n",
    "%timeit sum(lista)  # Usar sum()\n",
    "%timeit suma_for = 0; [suma_for := suma_for + num for num in lista]  # Usar bucle for"
   ]
  },
  {
   "cell_type": "code",
   "execution_count": null,
   "metadata": {},
   "outputs": [],
   "source": [
    "b) En la segunda celda de código vamos a utilizar el tipo de datos array que nos proporciona el paquete\n",
    "numpy. En primer lugar, pasa la lista creada en la celda anterior a un array de numpy. Y al igual que\n",
    "antes, calcula el tiempo que tardas en sumar todos los elementos del array de 2 formas diferentes:\n",
    "    a) Usando un bucle for para ir sumando al resultado total elemento a elemento del array\n",
    "    b) usando la función sum que tiene el paquete numpy para los arrays. Como verás, hay una diferencia\n",
    "    importante, y también con respecto al manejo de estos datos usando listas."
   ]
  },
  {
   "cell_type": "code",
   "execution_count": 17,
   "metadata": {},
   "outputs": [
    {
     "name": "stdout",
     "output_type": "stream",
     "text": [
      "\n",
      "Suma usando for loop con numpy array:\n",
      "Resultado de la suma con for: 499999500000\n",
      "Tiempo tomado usando for loop: 1.6069188117980957 segundos\n",
      "\n",
      "Suma usando numpy.sum():\n",
      "Resultado de la suma con numpy.sum(): 499999500000\n",
      "Tiempo tomado usando numpy.sum(): 0.0035085678100585938 segundos\n",
      "\n",
      "Comparación con %timeit:\n",
      "2.69 ms ± 25.1 µs per loop (mean ± std. dev. of 7 runs, 100 loops each)\n",
      "1.49 s ± 8.38 ms per loop (mean ± std. dev. of 7 runs, 1 loop each)\n"
     ]
    }
   ],
   "source": [
    "# Convertir la lista a un array de numpy\n",
    "array = np.array(lista)\n",
    "\n",
    "# Suma usando un bucle for\n",
    "print(\"\\nSuma usando for loop con numpy array:\")\n",
    "start_time = time.time()  # Tiempo inicial\n",
    "suma_for = 0\n",
    "for num in array:\n",
    "    suma_for += num\n",
    "end_time = time.time()  # Tiempo final\n",
    "print(\"Resultado de la suma con for:\", suma_for)\n",
    "print(\"Tiempo tomado usando for loop:\", (end_time - start_time), \"segundos\")\n",
    "\n",
    "# Suma usando numpy.sum()\n",
    "print(\"\\nSuma usando numpy.sum():\")\n",
    "start_time = time.time()  # Tiempo inicial\n",
    "suma_numpy = np.sum(array)\n",
    "end_time = time.time()  # Tiempo final\n",
    "print(\"Resultado de la suma con numpy.sum():\", suma_numpy)\n",
    "print(\"Tiempo tomado usando numpy.sum():\", (end_time - start_time), \"segundos\")\n",
    "\n",
    "# Comparación usando %timeit\n",
    "print(\"\\nComparación con %timeit:\")\n",
    "%timeit np.sum(array)  # Usar numpy.sum()\n",
    "%timeit suma_for = 0; [suma_for := suma_for + num for num in array]  # Usar bucle for"
   ]
  },
  {
   "cell_type": "code",
   "execution_count": null,
   "metadata": {},
   "outputs": [],
   "source": [
    "c) Crea una nueva celda de texto debajo de la última celda de código para explicar los resultados\n",
    "obtenidos por los 3 procedimientos (código original, lists y numpy)."
   ]
  },
  {
   "cell_type": "code",
   "execution_count": null,
   "metadata": {},
   "outputs": [],
   "source": [
    "Los resultados obtenidos en los tres enfoques muestran diferencias significativas en el rendimiento y el tiempo de ejecución."
   ]
  },
  {
   "cell_type": "code",
   "execution_count": null,
   "metadata": {},
   "outputs": [],
   "source": [
    "Código original:\n",
    "\n",
    "Este enfoque es funcional pero no está optimizado. El tiempo tomado para calcular la suma de 10^6 elementos fue de 0.2953 \n",
    "segundos utilizando time y de aproximadamente 252 ms por ejecución utilizando %timeit. Esto ocurre porque el uso de un bucle \n",
    "explícito para sumar elemento por elemento no aprovecha optimizaciones internas o cálculos vectorizados."
   ]
  },
  {
   "cell_type": "code",
   "execution_count": null,
   "metadata": {},
   "outputs": [],
   "source": [
    "Listas:\n",
    "\n",
    "Usar listas mejora ligeramente el tiempo en comparación con el código original cuando se utiliza la función sum(). El tiempo \n",
    "obtenido con sum() fue de 0.0308 segundos, mucho más rápido que el bucle for aplicado a listas, que tomó 0.4245 segundos. \n",
    "Usando %timeit, la función sum() mostró un tiempo promedio de 31.1 ms, mientras que el bucle for sobre listas tomó 359 ms. \n",
    "Esto resalta que las funciones integradas en Python están optimizadas para operaciones comunes sobre estructuras de datos."
   ]
  },
  {
   "cell_type": "code",
   "execution_count": null,
   "metadata": {},
   "outputs": [],
   "source": [
    "Arrays de NumPy:\n",
    "    \n",
    "Este enfoque es el más eficiente de todos. La función numpy.sum() sobre un array tomó solo 0.0038 segundos, en comparación con \n",
    "los 0.3694 segundos que tomó un bucle for aplicado a arrays. Esto demuestra que las funciones vectorizadas de NumPy están \n",
    "diseñadas para operar a nivel de bajo nivel (C internamente), logrando un rendimiento mucho mayor. Además, con %timeit, \n",
    "se midieron tiempos promedio de 1.68 ms para numpy.sum() y de 403 ms para el bucle for, lo que refuerza la diferencia en \n",
    "eficiencia."
   ]
  }
 ],
 "metadata": {
  "kernelspec": {
   "display_name": "Python 3",
   "language": "python",
   "name": "python3"
  },
  "language_info": {
   "codemirror_mode": {
    "name": "ipython",
    "version": 3
   },
   "file_extension": ".py",
   "mimetype": "text/x-python",
   "name": "python",
   "nbconvert_exporter": "python",
   "pygments_lexer": "ipython3",
   "version": "3.8.5"
  }
 },
 "nbformat": 4,
 "nbformat_minor": 5
}
